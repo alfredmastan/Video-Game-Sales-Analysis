{
 "cells": [
  {
   "cell_type": "markdown",
   "id": "aced5577-c751-4daa-86fd-85b4c0d049f5",
   "metadata": {},
   "source": [
    "# 🎮 Exploratory Data Analysis on Video Game Sales "
   ]
  },
  {
   "cell_type": "markdown",
   "id": "dcfb6d04-2db6-4177-b76e-97b5553d3eab",
   "metadata": {},
   "source": [
    "## Introduction"
   ]
  },
  {
   "cell_type": "markdown",
   "id": "c4900479-8e65-422b-9715-55a034c857e8",
   "metadata": {},
   "source": [
    "In this project, we will analyze video game sales data from North America, Japan, Europe, Africa, and the rest of the world"
   ]
  },
  {
   "cell_type": "markdown",
   "id": "dd88f275-984c-42bb-8d1d-81fb8d264cee",
   "metadata": {},
   "source": [
    "The source of Data is obtained from *Kaggle* which contains 64,016 titles from the year 1971-2024"
   ]
  },
  {
   "cell_type": "markdown",
   "id": "853d53e5-8d19-47d7-b913-2a1ebdcb139b",
   "metadata": {},
   "source": [
    "## Questions"
   ]
  },
  {
   "cell_type": "markdown",
   "id": "8897ec95-7411-4019-b1bd-fa1f38eb9992",
   "metadata": {},
   "source": [
    "From the dataset we would like to know:"
   ]
  },
  {
   "cell_type": "markdown",
   "id": "45cae48c-606d-435d-9fbf-62c23dac1f12",
   "metadata": {},
   "source": [
    "* Q1: Which title sold the most worldwide?\n",
    "* Q2: Which year had the highest sales? Has the industry grown over time?\n",
    "* Q3: Do any consoles seem to specialize in a particular genre?\n",
    "* Q4: What title are popular in one region but flop in another?"
   ]
  },
  {
   "cell_type": "markdown",
   "id": "8255a956-6d59-4b47-8707-6fe1d7cc280d",
   "metadata": {},
   "source": [
    "***"
   ]
  },
  {
   "cell_type": "markdown",
   "id": "c65780f5-be66-4e6d-aece-d29086dc2b43",
   "metadata": {},
   "source": [
    "## Data Cleaning"
   ]
  },
  {
   "cell_type": "markdown",
   "id": "49abd552-5039-4841-b065-b1962b611773",
   "metadata": {},
   "source": [
    "### Preparing the Environment"
   ]
  },
  {
   "cell_type": "markdown",
   "id": "6c5903f9-98ed-4cc0-b1cf-f62f9576cb4b",
   "metadata": {},
   "source": [
    "We import all the necessary libraries for the analysis"
   ]
  },
  {
   "cell_type": "code",
   "execution_count": 8,
   "id": "9329bbaf-fac4-4dc4-b87c-12a595a8695b",
   "metadata": {},
   "outputs": [],
   "source": [
    "#import libraries\n",
    "import matplotlib.pyplot as plt\n",
    "import pandas as pd\n",
    "\n",
    "#read csv\n",
    "df = pd.read_csv('./Datas/vgchartz-2024.csv')"
   ]
  },
  {
   "cell_type": "markdown",
   "id": "84406240-aa70-4919-a0fe-28046c7b9d07",
   "metadata": {},
   "source": [
    "### Exploring the Data"
   ]
  },
  {
   "cell_type": "markdown",
   "id": "a0a4bc4b-d3f9-4fb9-9b2c-a1d6728bd8e6",
   "metadata": {},
   "source": [
    "We explore the data based on the shape, data type and other general information"
   ]
  },
  {
   "cell_type": "code",
   "execution_count": 9,
   "id": "d2d25685-736f-491c-a35f-90148e23c25f",
   "metadata": {},
   "outputs": [
    {
     "data": {
      "text/html": [
       "<div>\n",
       "<style scoped>\n",
       "    .dataframe tbody tr th:only-of-type {\n",
       "        vertical-align: middle;\n",
       "    }\n",
       "\n",
       "    .dataframe tbody tr th {\n",
       "        vertical-align: top;\n",
       "    }\n",
       "\n",
       "    .dataframe thead th {\n",
       "        text-align: right;\n",
       "    }\n",
       "</style>\n",
       "<table border=\"1\" class=\"dataframe\">\n",
       "  <thead>\n",
       "    <tr style=\"text-align: right;\">\n",
       "      <th></th>\n",
       "      <th>img</th>\n",
       "      <th>title</th>\n",
       "      <th>console</th>\n",
       "      <th>genre</th>\n",
       "      <th>publisher</th>\n",
       "      <th>developer</th>\n",
       "      <th>critic_score</th>\n",
       "      <th>total_sales</th>\n",
       "      <th>na_sales</th>\n",
       "      <th>jp_sales</th>\n",
       "      <th>pal_sales</th>\n",
       "      <th>other_sales</th>\n",
       "      <th>release_date</th>\n",
       "      <th>last_update</th>\n",
       "    </tr>\n",
       "  </thead>\n",
       "  <tbody>\n",
       "    <tr>\n",
       "      <th>0</th>\n",
       "      <td>/games/boxart/full_6510540AmericaFrontccc.jpg</td>\n",
       "      <td>Grand Theft Auto V</td>\n",
       "      <td>PS3</td>\n",
       "      <td>Action</td>\n",
       "      <td>Rockstar Games</td>\n",
       "      <td>Rockstar North</td>\n",
       "      <td>9.4</td>\n",
       "      <td>20.32</td>\n",
       "      <td>6.37</td>\n",
       "      <td>0.99</td>\n",
       "      <td>9.85</td>\n",
       "      <td>3.12</td>\n",
       "      <td>2013-09-17</td>\n",
       "      <td>NaN</td>\n",
       "    </tr>\n",
       "    <tr>\n",
       "      <th>1</th>\n",
       "      <td>/games/boxart/full_5563178AmericaFrontccc.jpg</td>\n",
       "      <td>Grand Theft Auto V</td>\n",
       "      <td>PS4</td>\n",
       "      <td>Action</td>\n",
       "      <td>Rockstar Games</td>\n",
       "      <td>Rockstar North</td>\n",
       "      <td>9.7</td>\n",
       "      <td>19.39</td>\n",
       "      <td>6.06</td>\n",
       "      <td>0.60</td>\n",
       "      <td>9.71</td>\n",
       "      <td>3.02</td>\n",
       "      <td>2014-11-18</td>\n",
       "      <td>2018-01-03</td>\n",
       "    </tr>\n",
       "    <tr>\n",
       "      <th>2</th>\n",
       "      <td>/games/boxart/827563ccc.jpg</td>\n",
       "      <td>Grand Theft Auto: Vice City</td>\n",
       "      <td>PS2</td>\n",
       "      <td>Action</td>\n",
       "      <td>Rockstar Games</td>\n",
       "      <td>Rockstar North</td>\n",
       "      <td>9.6</td>\n",
       "      <td>16.15</td>\n",
       "      <td>8.41</td>\n",
       "      <td>0.47</td>\n",
       "      <td>5.49</td>\n",
       "      <td>1.78</td>\n",
       "      <td>2002-10-28</td>\n",
       "      <td>NaN</td>\n",
       "    </tr>\n",
       "    <tr>\n",
       "      <th>3</th>\n",
       "      <td>/games/boxart/full_9218923AmericaFrontccc.jpg</td>\n",
       "      <td>Grand Theft Auto V</td>\n",
       "      <td>X360</td>\n",
       "      <td>Action</td>\n",
       "      <td>Rockstar Games</td>\n",
       "      <td>Rockstar North</td>\n",
       "      <td>NaN</td>\n",
       "      <td>15.86</td>\n",
       "      <td>9.06</td>\n",
       "      <td>0.06</td>\n",
       "      <td>5.33</td>\n",
       "      <td>1.42</td>\n",
       "      <td>2013-09-17</td>\n",
       "      <td>NaN</td>\n",
       "    </tr>\n",
       "    <tr>\n",
       "      <th>4</th>\n",
       "      <td>/games/boxart/full_4990510AmericaFrontccc.jpg</td>\n",
       "      <td>Call of Duty: Black Ops 3</td>\n",
       "      <td>PS4</td>\n",
       "      <td>Shooter</td>\n",
       "      <td>Activision</td>\n",
       "      <td>Treyarch</td>\n",
       "      <td>8.1</td>\n",
       "      <td>15.09</td>\n",
       "      <td>6.18</td>\n",
       "      <td>0.41</td>\n",
       "      <td>6.05</td>\n",
       "      <td>2.44</td>\n",
       "      <td>2015-11-06</td>\n",
       "      <td>2018-01-14</td>\n",
       "    </tr>\n",
       "  </tbody>\n",
       "</table>\n",
       "</div>"
      ],
      "text/plain": [
       "                                             img                        title  \\\n",
       "0  /games/boxart/full_6510540AmericaFrontccc.jpg           Grand Theft Auto V   \n",
       "1  /games/boxart/full_5563178AmericaFrontccc.jpg           Grand Theft Auto V   \n",
       "2                    /games/boxart/827563ccc.jpg  Grand Theft Auto: Vice City   \n",
       "3  /games/boxart/full_9218923AmericaFrontccc.jpg           Grand Theft Auto V   \n",
       "4  /games/boxart/full_4990510AmericaFrontccc.jpg    Call of Duty: Black Ops 3   \n",
       "\n",
       "  console    genre       publisher       developer  critic_score  total_sales  \\\n",
       "0     PS3   Action  Rockstar Games  Rockstar North           9.4        20.32   \n",
       "1     PS4   Action  Rockstar Games  Rockstar North           9.7        19.39   \n",
       "2     PS2   Action  Rockstar Games  Rockstar North           9.6        16.15   \n",
       "3    X360   Action  Rockstar Games  Rockstar North           NaN        15.86   \n",
       "4     PS4  Shooter      Activision        Treyarch           8.1        15.09   \n",
       "\n",
       "   na_sales  jp_sales  pal_sales  other_sales release_date last_update  \n",
       "0      6.37      0.99       9.85         3.12   2013-09-17         NaN  \n",
       "1      6.06      0.60       9.71         3.02   2014-11-18  2018-01-03  \n",
       "2      8.41      0.47       5.49         1.78   2002-10-28         NaN  \n",
       "3      9.06      0.06       5.33         1.42   2013-09-17         NaN  \n",
       "4      6.18      0.41       6.05         2.44   2015-11-06  2018-01-14  "
      ]
     },
     "execution_count": 9,
     "metadata": {},
     "output_type": "execute_result"
    }
   ],
   "source": [
    "df.head()"
   ]
  },
  {
   "cell_type": "code",
   "execution_count": 10,
   "id": "b43eaca1-39fa-4c88-9751-9b730dcac518",
   "metadata": {
    "scrolled": true
   },
   "outputs": [
    {
     "data": {
      "text/plain": [
       "(64016, 14)"
      ]
     },
     "execution_count": 10,
     "metadata": {},
     "output_type": "execute_result"
    }
   ],
   "source": [
    "#get the general idea of the data size\n",
    "df.shape"
   ]
  },
  {
   "cell_type": "markdown",
   "id": "c4c8b705-7515-45f2-afca-ce4ab1b5ed8d",
   "metadata": {},
   "source": [
    "### Dropping Unnecessary Column(s)"
   ]
  },
  {
   "cell_type": "markdown",
   "id": "379657a3-d7b6-4b8c-9a30-1fc570dc4df9",
   "metadata": {},
   "source": [
    "The **img** column is unrelated with the data analysis, dropping it will keep the data clean to work with"
   ]
  },
  {
   "cell_type": "code",
   "execution_count": 11,
   "id": "8ea0826a-0797-4362-921c-a71db11db875",
   "metadata": {},
   "outputs": [],
   "source": [
    "df.drop(['img', 'publisher', 'developer', 'critic_score', 'last_update'], axis=1, inplace=True)"
   ]
  },
  {
   "cell_type": "markdown",
   "id": "b0041109-2152-4a7b-9324-9f518441d1dd",
   "metadata": {},
   "source": [
    "### Checking Data Types"
   ]
  },
  {
   "cell_type": "markdown",
   "id": "652f0f83-9753-4080-9b44-d28bd22fab6f",
   "metadata": {},
   "source": [
    "Check the data types and make sure everything matches to avoid errors and confusion"
   ]
  },
  {
   "cell_type": "code",
   "execution_count": 12,
   "id": "624b3285-4421-4390-9b89-7a151155ba86",
   "metadata": {
    "scrolled": true
   },
   "outputs": [
    {
     "name": "stdout",
     "output_type": "stream",
     "text": [
      "<class 'pandas.core.frame.DataFrame'>\n",
      "RangeIndex: 64016 entries, 0 to 64015\n",
      "Data columns (total 9 columns):\n",
      " #   Column        Non-Null Count  Dtype  \n",
      "---  ------        --------------  -----  \n",
      " 0   title         64016 non-null  object \n",
      " 1   console       64016 non-null  object \n",
      " 2   genre         64016 non-null  object \n",
      " 3   total_sales   18922 non-null  float64\n",
      " 4   na_sales      12637 non-null  float64\n",
      " 5   jp_sales      6726 non-null   float64\n",
      " 6   pal_sales     12824 non-null  float64\n",
      " 7   other_sales   15128 non-null  float64\n",
      " 8   release_date  56965 non-null  object \n",
      "dtypes: float64(5), object(4)\n",
      "memory usage: 4.4+ MB\n"
     ]
    }
   ],
   "source": [
    "df.info()"
   ]
  },
  {
   "cell_type": "markdown",
   "id": "5c69542e-8b98-47dc-8375-712cdd1f13e1",
   "metadata": {},
   "source": [
    "Columns **title, console, and genre** needed to be changed to string type and **release_date** as datetime type"
   ]
  },
  {
   "cell_type": "code",
   "execution_count": 13,
   "id": "48011412-1f19-4cee-9b76-c332c4ad7175",
   "metadata": {},
   "outputs": [],
   "source": [
    "df[['title', 'console', 'genre']] = df[['title', 'console', 'genre']].astype('string')\n",
    "df['release_date'] = df['release_date'].astype('datetime64[us]')"
   ]
  },
  {
   "cell_type": "markdown",
   "id": "8c239533-e6c8-4e06-ba19-8ae8ca32597a",
   "metadata": {},
   "source": [
    "Columns **title, console, and genre** needed to be changed to string type"
   ]
  },
  {
   "cell_type": "code",
   "execution_count": 14,
   "id": "fee5de9d-9523-439b-9eb8-b9a220674348",
   "metadata": {
    "scrolled": true
   },
   "outputs": [
    {
     "name": "stdout",
     "output_type": "stream",
     "text": [
      "<class 'pandas.core.frame.DataFrame'>\n",
      "RangeIndex: 64016 entries, 0 to 64015\n",
      "Data columns (total 9 columns):\n",
      " #   Column        Non-Null Count  Dtype         \n",
      "---  ------        --------------  -----         \n",
      " 0   title         64016 non-null  string        \n",
      " 1   console       64016 non-null  string        \n",
      " 2   genre         64016 non-null  string        \n",
      " 3   total_sales   18922 non-null  float64       \n",
      " 4   na_sales      12637 non-null  float64       \n",
      " 5   jp_sales      6726 non-null   float64       \n",
      " 6   pal_sales     12824 non-null  float64       \n",
      " 7   other_sales   15128 non-null  float64       \n",
      " 8   release_date  56965 non-null  datetime64[us]\n",
      "dtypes: datetime64[us](1), float64(5), string(3)\n",
      "memory usage: 4.4 MB\n"
     ]
    }
   ],
   "source": [
    "df.info()"
   ]
  },
  {
   "cell_type": "markdown",
   "id": "580e2c54-6b28-44df-a318-336e6e557dfb",
   "metadata": {},
   "source": [
    "### Dealing with Nulls"
   ]
  },
  {
   "cell_type": "markdown",
   "id": "737aad4a-a16d-4c7f-936f-d513cb34e0b5",
   "metadata": {},
   "source": [
    "Verify if there are any nulls in the data"
   ]
  },
  {
   "cell_type": "code",
   "execution_count": 15,
   "id": "c12cc015-4091-42b8-b497-1ca2b43892aa",
   "metadata": {},
   "outputs": [
    {
     "data": {
      "text/plain": [
       "title               0\n",
       "console             0\n",
       "genre               0\n",
       "total_sales     45094\n",
       "na_sales        51379\n",
       "jp_sales        57290\n",
       "pal_sales       51192\n",
       "other_sales     48888\n",
       "release_date     7051\n",
       "dtype: int64"
      ]
     },
     "execution_count": 15,
     "metadata": {},
     "output_type": "execute_result"
    }
   ],
   "source": [
    "df.isnull().sum()"
   ]
  },
  {
   "cell_type": "markdown",
   "id": "9bb84c7a-f830-4434-b7fd-4fbec53b8582",
   "metadata": {},
   "source": [
    "As seen, there are a lot of missing data which we will keep in mind as it introduce **biases**"
   ]
  },
  {
   "cell_type": "code",
   "execution_count": 16,
   "id": "8992ce21-7b45-4a97-84b0-75762c111c48",
   "metadata": {},
   "outputs": [],
   "source": [
    "df.dropna(inplace=True)"
   ]
  },
  {
   "cell_type": "markdown",
   "id": "01564561-83f8-42c6-bc63-f656401b3b7a",
   "metadata": {},
   "source": [
    "Verify it once again"
   ]
  },
  {
   "cell_type": "code",
   "execution_count": 17,
   "id": "6d7b2737-21d0-4245-8d59-0843d213e8bd",
   "metadata": {},
   "outputs": [
    {
     "data": {
      "text/plain": [
       "title           0\n",
       "console         0\n",
       "genre           0\n",
       "total_sales     0\n",
       "na_sales        0\n",
       "jp_sales        0\n",
       "pal_sales       0\n",
       "other_sales     0\n",
       "release_date    0\n",
       "dtype: int64"
      ]
     },
     "execution_count": 17,
     "metadata": {},
     "output_type": "execute_result"
    }
   ],
   "source": [
    "df.isnull().sum()"
   ]
  },
  {
   "cell_type": "markdown",
   "id": "39dc3275-ba5c-4262-8369-60a549c0ba95",
   "metadata": {},
   "source": [
    "### Dealing with Duplicates"
   ]
  },
  {
   "cell_type": "markdown",
   "id": "1a587213-dc77-4977-86f9-ef237fddacd2",
   "metadata": {},
   "source": [
    "Verify if there are any duplicates in the data"
   ]
  },
  {
   "cell_type": "code",
   "execution_count": 18,
   "id": "224055e4-311a-4441-974f-3e592151ab65",
   "metadata": {},
   "outputs": [
    {
     "data": {
      "text/plain": [
       "np.int64(0)"
      ]
     },
     "execution_count": 18,
     "metadata": {},
     "output_type": "execute_result"
    }
   ],
   "source": [
    "df.duplicated().sum()"
   ]
  },
  {
   "cell_type": "markdown",
   "id": "d4724beb-5e7a-4567-ba10-14ff96f5bea0",
   "metadata": {},
   "source": [
    "***"
   ]
  },
  {
   "cell_type": "markdown",
   "id": "7e0c0ab7-91dd-4b66-bbd4-8236106f12c7",
   "metadata": {},
   "source": [
    "## Data Analysis"
   ]
  },
  {
   "cell_type": "markdown",
   "id": "4ed87a59-5c6d-481b-9d85-a86b3c09d06a",
   "metadata": {},
   "source": [
    "### Q1: Which title sold the most worldwide?"
   ]
  },
  {
   "cell_type": "markdown",
   "id": "e43fa0b2-19b7-48bc-a0d6-d9875b7ed266",
   "metadata": {},
   "source": [
    "We find this by grouping the data by title, adding the total sales, and sort them"
   ]
  },
  {
   "cell_type": "code",
   "execution_count": 19,
   "id": "0ca530bb-1c5a-461b-ac1c-0206680552cc",
   "metadata": {},
   "outputs": [
    {
     "data": {
      "text/html": [
       "<div>\n",
       "<style scoped>\n",
       "    .dataframe tbody tr th:only-of-type {\n",
       "        vertical-align: middle;\n",
       "    }\n",
       "\n",
       "    .dataframe tbody tr th {\n",
       "        vertical-align: top;\n",
       "    }\n",
       "\n",
       "    .dataframe thead th {\n",
       "        text-align: right;\n",
       "    }\n",
       "</style>\n",
       "<table border=\"1\" class=\"dataframe\">\n",
       "  <thead>\n",
       "    <tr style=\"text-align: right;\">\n",
       "      <th></th>\n",
       "      <th>title</th>\n",
       "      <th>total_sales</th>\n",
       "    </tr>\n",
       "  </thead>\n",
       "  <tbody>\n",
       "    <tr>\n",
       "      <th>628</th>\n",
       "      <td>Grand Theft Auto V</td>\n",
       "      <td>64.29</td>\n",
       "    </tr>\n",
       "    <tr>\n",
       "      <th>193</th>\n",
       "      <td>Call of Duty: Modern Warfare 3</td>\n",
       "      <td>28.17</td>\n",
       "    </tr>\n",
       "    <tr>\n",
       "      <th>187</th>\n",
       "      <td>Call of Duty: Black Ops II</td>\n",
       "      <td>27.66</td>\n",
       "    </tr>\n",
       "    <tr>\n",
       "      <th>185</th>\n",
       "      <td>Call of Duty: Black Ops</td>\n",
       "      <td>27.41</td>\n",
       "    </tr>\n",
       "    <tr>\n",
       "      <th>190</th>\n",
       "      <td>Call of Duty: Ghosts</td>\n",
       "      <td>25.06</td>\n",
       "    </tr>\n",
       "    <tr>\n",
       "      <th>186</th>\n",
       "      <td>Call of Duty: Black Ops 3</td>\n",
       "      <td>24.41</td>\n",
       "    </tr>\n",
       "    <tr>\n",
       "      <th>192</th>\n",
       "      <td>Call of Duty: Modern Warfare 2</td>\n",
       "      <td>24.14</td>\n",
       "    </tr>\n",
       "    <tr>\n",
       "      <th>627</th>\n",
       "      <td>Grand Theft Auto IV</td>\n",
       "      <td>21.66</td>\n",
       "    </tr>\n",
       "    <tr>\n",
       "      <th>184</th>\n",
       "      <td>Call of Duty: Advanced Warfare</td>\n",
       "      <td>21.36</td>\n",
       "    </tr>\n",
       "    <tr>\n",
       "      <th>182</th>\n",
       "      <td>Call of Duty 4: Modern Warfare</td>\n",
       "      <td>17.18</td>\n",
       "    </tr>\n",
       "  </tbody>\n",
       "</table>\n",
       "</div>"
      ],
      "text/plain": [
       "                              title  total_sales\n",
       "628              Grand Theft Auto V        64.29\n",
       "193  Call of Duty: Modern Warfare 3        28.17\n",
       "187      Call of Duty: Black Ops II        27.66\n",
       "185         Call of Duty: Black Ops        27.41\n",
       "190            Call of Duty: Ghosts        25.06\n",
       "186       Call of Duty: Black Ops 3        24.41\n",
       "192  Call of Duty: Modern Warfare 2        24.14\n",
       "627             Grand Theft Auto IV        21.66\n",
       "184  Call of Duty: Advanced Warfare        21.36\n",
       "182  Call of Duty 4: Modern Warfare        17.18"
      ]
     },
     "execution_count": 19,
     "metadata": {},
     "output_type": "execute_result"
    }
   ],
   "source": [
    "df_top = df.groupby(['title'])['total_sales'].sum().reset_index().sort_values('total_sales', ascending=False).head(10)\n",
    "df_top.head(10)"
   ]
  },
  {
   "cell_type": "markdown",
   "id": "d6a500ef-8a3b-44b9-9508-1cd868ab2732",
   "metadata": {},
   "source": [
    "Then, we plot the data to show top 10 titles sold"
   ]
  },
  {
   "cell_type": "code",
   "execution_count": 20,
   "id": "066cf796-c94c-48db-982f-c5aebf46c179",
   "metadata": {},
   "outputs": [
    {
     "data": {
      "image/png": "[encoded data removed]",
      "text/plain": [
       "<Figure size 800x500 with 1 Axes>"
      ]
     },
     "metadata": {},
     "output_type": "display_data"
    }
   ],
   "source": [
    "fig_top, ax_top = plt.subplots(figsize=(8, 5))\n",
    "ax_top.barh(df_top['title'], df_top['total_sales'])\n",
    "ax_top.invert_yaxis()\n",
    "ax_top.set_title('Top 10 Titles Sold Worldwide', fontsize=15, y=1.02, x=0.4, weight='bold')\n",
    "ax_top.set_xlabel('Total Sales')\n",
    "fig_top.subplots_adjust(left=0.3)"
   ]
  },
  {
   "cell_type": "markdown",
   "id": "6a1bc032-6734-4ca1-847b-72cfee6bb36b",
   "metadata": {},
   "source": [
    "> #### In general, **Grand Theft Auto V** is the best selling title worldwide"
   ]
  },
  {
   "cell_type": "markdown",
   "id": "a1e2616e-9aee-487e-8cd7-7f33ff951c85",
   "metadata": {},
   "source": [
    "### Q2: Which year had the highest sales? Has the industry grown over time?"
   ]
  },
  {
   "cell_type": "markdown",
   "id": "2bc70e0f-061d-4e7c-be78-126049fa6cc8",
   "metadata": {},
   "source": [
    "We group the data by the year in 'release_date' column and sum the total sales"
   ]
  },
  {
   "cell_type": "code",
   "execution_count": 21,
   "id": "0767cf22-f4c2-4795-b141-26284b3ab03c",
   "metadata": {},
   "outputs": [],
   "source": [
    "df_trend = df.groupby([df['release_date'].dt.year])['total_sales'].sum().reset_index()"
   ]
  },
  {
   "cell_type": "code",
   "execution_count": 22,
   "id": "b3afab1d-b20a-4c49-888d-bab775e32a98",
   "metadata": {},
   "outputs": [
    {
     "data": {
      "text/html": [
       "<div>\n",
       "<style scoped>\n",
       "    .dataframe tbody tr th:only-of-type {\n",
       "        vertical-align: middle;\n",
       "    }\n",
       "\n",
       "    .dataframe tbody tr th {\n",
       "        vertical-align: top;\n",
       "    }\n",
       "\n",
       "    .dataframe thead th {\n",
       "        text-align: right;\n",
       "    }\n",
       "</style>\n",
       "<table border=\"1\" class=\"dataframe\">\n",
       "  <thead>\n",
       "    <tr style=\"text-align: right;\">\n",
       "      <th></th>\n",
       "      <th>release_date</th>\n",
       "      <th>total_sales</th>\n",
       "    </tr>\n",
       "  </thead>\n",
       "  <tbody>\n",
       "    <tr>\n",
       "      <th>0</th>\n",
       "      <td>1985</td>\n",
       "      <td>0.82</td>\n",
       "    </tr>\n",
       "    <tr>\n",
       "      <th>1</th>\n",
       "      <td>1986</td>\n",
       "      <td>2.28</td>\n",
       "    </tr>\n",
       "    <tr>\n",
       "      <th>2</th>\n",
       "      <td>1987</td>\n",
       "      <td>2.04</td>\n",
       "    </tr>\n",
       "  </tbody>\n",
       "</table>\n",
       "</div>"
      ],
      "text/plain": [
       "   release_date  total_sales\n",
       "0          1985         0.82\n",
       "1          1986         2.28\n",
       "2          1987         2.04"
      ]
     },
     "execution_count": 22,
     "metadata": {},
     "output_type": "execute_result"
    }
   ],
   "source": [
    "df_trend.head(3)"
   ]
  },
  {
   "cell_type": "markdown",
   "id": "8a2d352c-4d73-4efd-9722-e79e094a8498",
   "metadata": {},
   "source": [
    "Then, we plot the data and annotate the significant years for easier reading"
   ]
  },
  {
   "cell_type": "code",
   "execution_count": 23,
   "id": "bd9b5eda-ca16-4c65-8cd4-0f922fa14f92",
   "metadata": {},
   "outputs": [
    {
     "data": {
      "image/png": "[encoded data removed]",
      "text/plain": [
       "<Figure size 800x500 with 1 Axes>"
      ]
     },
     "metadata": {},
     "output_type": "display_data"
    }
   ],
   "source": [
    "fig_trend, ax_trend = plt.subplots(figsize=(8, 5))\n",
    "ax_trend.plot(df_trend['release_date'], df_trend['total_sales'], linewidth=2)\n",
    "ax_trend.set_title('Title Sold over the Years', fontsize=15, y=1.02, x=0.5, weight='bold')\n",
    "ax_trend.set_ylabel('Total Sales', fontsize=12)\n",
    "ax_trend.yaxis.set_label_coords(-.08, .5)\n",
    "ax_trend.set_xticks(ax_trend.get_xticks()[::8])\n",
    "\n",
    "#annotate significant years\n",
    "for i, txt in enumerate(df_trend['total_sales']):\n",
    "    if (df_trend['total_sales'].iloc[i] == df_trend['total_sales'].max() or\n",
    "        i == df_trend.index.max()):\n",
    "        ax_trend.annotate(\"{year}: {sales:n}\".format(sales = txt, year = df_trend['release_date'].iloc[i]),\n",
    "                          (df_trend['release_date'].iloc[i], txt),\n",
    "                          xycoords='data',\n",
    "                          xytext=(8, 1),\n",
    "                          textcoords='offset points',\n",
    "                          weight='bold')"
   ]
  },
  {
   "cell_type": "markdown",
   "id": "f8ab25a3-5c16-47a8-b3a7-5876ac0e3919",
   "metadata": {},
   "source": [
    "> #### Although it looks like **2011** was the year there most titles were sold, it is important to notice that there is a great sum of data were missing from the dataset which made the graph **biased**\n",
    "> #### The industry has **grown** over the time, however it is hard to tell if it is still growing beyond 2011"
   ]
  },
  {
   "cell_type": "markdown",
   "id": "b1585aab-b93e-4054-b219-c312b873a99e",
   "metadata": {},
   "source": [
    "### Q3: Do any consoles seem to specialize in a particular genre?"
   ]
  },
  {
   "cell_type": "markdown",
   "id": "5d43cd82-0ead-4deb-9d0b-9207d35279d6",
   "metadata": {},
   "source": [
    "We count based on the consoles and genres they are producing throughout the years"
   ]
  },
  {
   "cell_type": "code",
   "execution_count": 24,
   "id": "6dbbaf8f-b27a-4992-bc78-c23f7210004c",
   "metadata": {},
   "outputs": [],
   "source": [
    "df_console = df.value_counts(['console', 'genre']).reset_index()\n",
    "df_console.set_index('console', inplace=True)"
   ]
  },
  {
   "cell_type": "code",
   "execution_count": 25,
   "id": "aac720ce-7a01-46d4-92e6-0731e3d32ae5",
   "metadata": {},
   "outputs": [
    {
     "data": {
      "text/html": [
       "<div>\n",
       "<style scoped>\n",
       "    .dataframe tbody tr th:only-of-type {\n",
       "        vertical-align: middle;\n",
       "    }\n",
       "\n",
       "    .dataframe tbody tr th {\n",
       "        vertical-align: top;\n",
       "    }\n",
       "\n",
       "    .dataframe thead th {\n",
       "        text-align: right;\n",
       "    }\n",
       "</style>\n",
       "<table border=\"1\" class=\"dataframe\">\n",
       "  <thead>\n",
       "    <tr style=\"text-align: right;\">\n",
       "      <th></th>\n",
       "      <th>genre</th>\n",
       "      <th>count</th>\n",
       "    </tr>\n",
       "    <tr>\n",
       "      <th>console</th>\n",
       "      <th></th>\n",
       "      <th></th>\n",
       "    </tr>\n",
       "  </thead>\n",
       "  <tbody>\n",
       "    <tr>\n",
       "      <th>X360</th>\n",
       "      <td>Shooter</td>\n",
       "      <td>93</td>\n",
       "    </tr>\n",
       "    <tr>\n",
       "      <th>PS3</th>\n",
       "      <td>Shooter</td>\n",
       "      <td>91</td>\n",
       "    </tr>\n",
       "    <tr>\n",
       "      <th>PS3</th>\n",
       "      <td>Action</td>\n",
       "      <td>82</td>\n",
       "    </tr>\n",
       "    <tr>\n",
       "      <th>X360</th>\n",
       "      <td>Action</td>\n",
       "      <td>71</td>\n",
       "    </tr>\n",
       "    <tr>\n",
       "      <th>PS3</th>\n",
       "      <td>Role-Playing</td>\n",
       "      <td>56</td>\n",
       "    </tr>\n",
       "    <tr>\n",
       "      <th>PS4</th>\n",
       "      <td>Action</td>\n",
       "      <td>53</td>\n",
       "    </tr>\n",
       "    <tr>\n",
       "      <th>PS3</th>\n",
       "      <td>Sports</td>\n",
       "      <td>52</td>\n",
       "    </tr>\n",
       "    <tr>\n",
       "      <th>PS2</th>\n",
       "      <td>Action</td>\n",
       "      <td>48</td>\n",
       "    </tr>\n",
       "    <tr>\n",
       "      <th>PS2</th>\n",
       "      <td>Sports</td>\n",
       "      <td>47</td>\n",
       "    </tr>\n",
       "    <tr>\n",
       "      <th>PS4</th>\n",
       "      <td>Shooter</td>\n",
       "      <td>40</td>\n",
       "    </tr>\n",
       "  </tbody>\n",
       "</table>\n",
       "</div>"
      ],
      "text/plain": [
       "                genre  count\n",
       "console                     \n",
       "X360          Shooter     93\n",
       "PS3           Shooter     91\n",
       "PS3            Action     82\n",
       "X360           Action     71\n",
       "PS3      Role-Playing     56\n",
       "PS4            Action     53\n",
       "PS3            Sports     52\n",
       "PS2            Action     48\n",
       "PS2            Sports     47\n",
       "PS4           Shooter     40"
      ]
     },
     "execution_count": 25,
     "metadata": {},
     "output_type": "execute_result"
    }
   ],
   "source": [
    "df_console.head(10)"
   ]
  },
  {
   "cell_type": "markdown",
   "id": "67d6a42a-aa1c-4cf6-8e45-51460407d941",
   "metadata": {},
   "source": [
    "Then, we group them by each console types and their genres as a list"
   ]
  },
  {
   "cell_type": "code",
   "execution_count": 26,
   "id": "27226b8e-a6c0-4158-a095-9a96f9cdac5e",
   "metadata": {},
   "outputs": [
    {
     "data": {
      "text/html": [
       "<div>\n",
       "<style scoped>\n",
       "    .dataframe tbody tr th:only-of-type {\n",
       "        vertical-align: middle;\n",
       "    }\n",
       "\n",
       "    .dataframe tbody tr th {\n",
       "        vertical-align: top;\n",
       "    }\n",
       "\n",
       "    .dataframe thead th {\n",
       "        text-align: right;\n",
       "    }\n",
       "</style>\n",
       "<table border=\"1\" class=\"dataframe\">\n",
       "  <thead>\n",
       "    <tr style=\"text-align: right;\">\n",
       "      <th></th>\n",
       "      <th>console</th>\n",
       "      <th>genre</th>\n",
       "    </tr>\n",
       "  </thead>\n",
       "  <tbody>\n",
       "    <tr>\n",
       "      <th>0</th>\n",
       "      <td>3DS</td>\n",
       "      <td>[Role-Playing, Action, Simulation, Action-Adve...</td>\n",
       "    </tr>\n",
       "    <tr>\n",
       "      <th>1</th>\n",
       "      <td>DC</td>\n",
       "      <td>[Racing, Platform]</td>\n",
       "    </tr>\n",
       "    <tr>\n",
       "      <th>2</th>\n",
       "      <td>DS</td>\n",
       "      <td>[Role-Playing, Adventure, Puzzle, Simulation, ...</td>\n",
       "    </tr>\n",
       "    <tr>\n",
       "      <th>3</th>\n",
       "      <td>GB</td>\n",
       "      <td>[Sports, Action]</td>\n",
       "    </tr>\n",
       "    <tr>\n",
       "      <th>4</th>\n",
       "      <td>GBA</td>\n",
       "      <td>[Platform, Role-Playing, Puzzle, Adventure, Mi...</td>\n",
       "    </tr>\n",
       "  </tbody>\n",
       "</table>\n",
       "</div>"
      ],
      "text/plain": [
       "  console                                              genre\n",
       "0     3DS  [Role-Playing, Action, Simulation, Action-Adve...\n",
       "1      DC                                 [Racing, Platform]\n",
       "2      DS  [Role-Playing, Adventure, Puzzle, Simulation, ...\n",
       "3      GB                                   [Sports, Action]\n",
       "4     GBA  [Platform, Role-Playing, Puzzle, Adventure, Mi..."
      ]
     },
     "execution_count": 26,
     "metadata": {},
     "output_type": "execute_result"
    }
   ],
   "source": [
    "df_console = df_console.groupby(['console'])['genre'].apply(list).reset_index()\n",
    "df_console.head()"
   ]
  },
  {
   "cell_type": "markdown",
   "id": "fc3d93e7-95b0-4b7d-bea1-d111abaa8e13",
   "metadata": {},
   "source": [
    "As the genre datatype is object, we need to change it to string for it to be sorted"
   ]
  },
  {
   "cell_type": "code",
   "execution_count": 27,
   "id": "9ee601d1-b971-4dd8-8efa-97057ad03239",
   "metadata": {},
   "outputs": [
    {
     "name": "stdout",
     "output_type": "stream",
     "text": [
      "<class 'pandas.core.frame.DataFrame'>\n",
      "RangeIndex: 25 entries, 0 to 24\n",
      "Data columns (total 2 columns):\n",
      " #   Column   Non-Null Count  Dtype \n",
      "---  ------   --------------  ----- \n",
      " 0   console  25 non-null     string\n",
      " 1   genre    25 non-null     object\n",
      "dtypes: object(1), string(1)\n",
      "memory usage: 532.0+ bytes\n",
      "<class 'pandas.core.frame.DataFrame'>\n",
      "RangeIndex: 25 entries, 0 to 24\n",
      "Data columns (total 2 columns):\n",
      " #   Column   Non-Null Count  Dtype \n",
      "---  ------   --------------  ----- \n",
      " 0   console  25 non-null     string\n",
      " 1   genre    25 non-null     string\n",
      "dtypes: string(2)\n",
      "memory usage: 532.0 bytes\n"
     ]
    }
   ],
   "source": [
    "df_console.info()\n",
    "#change the genre type as string enabling it to be sort\n",
    "df_console['genre'] = df_console['genre'].astype('string')\n",
    "\n",
    "#verify datatype\n",
    "df_console.info()"
   ]
  },
  {
   "cell_type": "markdown",
   "id": "8531d82b-2556-42b7-b815-eecffe802245",
   "metadata": {},
   "source": [
    "Now we sort the value and look if there are any console that specialize in a specific genre"
   ]
  },
  {
   "cell_type": "code",
   "execution_count": 28,
   "id": "a84357da-e462-499f-85f0-b04ab953d235",
   "metadata": {
    "jp-MarkdownHeadingCollapsed": true
   },
   "outputs": [
    {
     "data": {
      "text/html": [
       "<div>\n",
       "<style scoped>\n",
       "    .dataframe tbody tr th:only-of-type {\n",
       "        vertical-align: middle;\n",
       "    }\n",
       "\n",
       "    .dataframe tbody tr th {\n",
       "        vertical-align: top;\n",
       "    }\n",
       "\n",
       "    .dataframe thead th {\n",
       "        text-align: right;\n",
       "    }\n",
       "</style>\n",
       "<table border=\"1\" class=\"dataframe\">\n",
       "  <thead>\n",
       "    <tr style=\"text-align: right;\">\n",
       "      <th></th>\n",
       "      <th>genre</th>\n",
       "    </tr>\n",
       "    <tr>\n",
       "      <th>console</th>\n",
       "      <th></th>\n",
       "    </tr>\n",
       "  </thead>\n",
       "  <tbody>\n",
       "    <tr>\n",
       "      <th>SNES</th>\n",
       "      <td>['Platform']</td>\n",
       "    </tr>\n",
       "    <tr>\n",
       "      <th>GBC</th>\n",
       "      <td>['Adventure']</td>\n",
       "    </tr>\n",
       "    <tr>\n",
       "      <th>GB</th>\n",
       "      <td>['Sports', 'Action']</td>\n",
       "    </tr>\n",
       "    <tr>\n",
       "      <th>PSN</th>\n",
       "      <td>['Racing', 'Shooter']</td>\n",
       "    </tr>\n",
       "    <tr>\n",
       "      <th>DC</th>\n",
       "      <td>['Racing', 'Platform']</td>\n",
       "    </tr>\n",
       "  </tbody>\n",
       "</table>\n",
       "</div>"
      ],
      "text/plain": [
       "                          genre\n",
       "console                        \n",
       "SNES               ['Platform']\n",
       "GBC               ['Adventure']\n",
       "GB         ['Sports', 'Action']\n",
       "PSN       ['Racing', 'Shooter']\n",
       "DC       ['Racing', 'Platform']"
      ]
     },
     "execution_count": 28,
     "metadata": {},
     "output_type": "execute_result"
    }
   ],
   "source": [
    "#sort the values by genre\n",
    "df_console.sort_values(by=['genre'], key=lambda x: x.str.len(), inplace=True)\n",
    "df_console.set_index('console', inplace=True)\n",
    "df_console.head()"
   ]
  },
  {
   "cell_type": "markdown",
   "id": "cc7b9026-2b2a-477f-8d0d-57890b0a6c8f",
   "metadata": {},
   "source": [
    "> #### Consoles like **SNES** seems like to specialize in **Platform** games, while **GBC** specialize in **Adventure** games"
   ]
  },
  {
   "cell_type": "markdown",
   "id": "1324fba4-b115-491d-8a70-7eafe08a119d",
   "metadata": {},
   "source": [
    "### Q4: What title are popular in one region but flop in another?"
   ]
  },
  {
   "cell_type": "markdown",
   "id": "766c153f-423f-4858-81c3-bb100bc1be1d",
   "metadata": {},
   "source": [
    "We group the dataset by title and filter the other columns to only include sales"
   ]
  },
  {
   "cell_type": "code",
   "execution_count": 29,
   "id": "9570a5fd-6e5c-4d9c-b962-8bd5d73eb96f",
   "metadata": {},
   "outputs": [
    {
     "data": {
      "text/html": [
       "<div>\n",
       "<style scoped>\n",
       "    .dataframe tbody tr th:only-of-type {\n",
       "        vertical-align: middle;\n",
       "    }\n",
       "\n",
       "    .dataframe tbody tr th {\n",
       "        vertical-align: top;\n",
       "    }\n",
       "\n",
       "    .dataframe thead th {\n",
       "        text-align: right;\n",
       "    }\n",
       "</style>\n",
       "<table border=\"1\" class=\"dataframe\">\n",
       "  <thead>\n",
       "    <tr style=\"text-align: right;\">\n",
       "      <th></th>\n",
       "      <th>title</th>\n",
       "      <th>na_sales</th>\n",
       "      <th>jp_sales</th>\n",
       "      <th>pal_sales</th>\n",
       "      <th>other_sales</th>\n",
       "    </tr>\n",
       "  </thead>\n",
       "  <tbody>\n",
       "    <tr>\n",
       "      <th>0</th>\n",
       "      <td>'98 Koshien</td>\n",
       "      <td>0.15</td>\n",
       "      <td>0.12</td>\n",
       "      <td>0.10</td>\n",
       "      <td>0.03</td>\n",
       "    </tr>\n",
       "    <tr>\n",
       "      <th>1</th>\n",
       "      <td>.hack//G.U. Last Recode</td>\n",
       "      <td>0.10</td>\n",
       "      <td>0.08</td>\n",
       "      <td>0.04</td>\n",
       "      <td>0.03</td>\n",
       "    </tr>\n",
       "    <tr>\n",
       "      <th>2</th>\n",
       "      <td>.hack//Infection Part 1</td>\n",
       "      <td>0.49</td>\n",
       "      <td>0.26</td>\n",
       "      <td>0.38</td>\n",
       "      <td>0.13</td>\n",
       "    </tr>\n",
       "    <tr>\n",
       "      <th>3</th>\n",
       "      <td>.hack//Mutation Part 2</td>\n",
       "      <td>0.23</td>\n",
       "      <td>0.20</td>\n",
       "      <td>0.18</td>\n",
       "      <td>0.06</td>\n",
       "    </tr>\n",
       "    <tr>\n",
       "      <th>4</th>\n",
       "      <td>.hack//Outbreak Part 3</td>\n",
       "      <td>0.14</td>\n",
       "      <td>0.17</td>\n",
       "      <td>0.11</td>\n",
       "      <td>0.04</td>\n",
       "    </tr>\n",
       "  </tbody>\n",
       "</table>\n",
       "</div>"
      ],
      "text/plain": [
       "                     title  na_sales  jp_sales  pal_sales  other_sales\n",
       "0              '98 Koshien      0.15      0.12       0.10         0.03\n",
       "1  .hack//G.U. Last Recode      0.10      0.08       0.04         0.03\n",
       "2  .hack//Infection Part 1      0.49      0.26       0.38         0.13\n",
       "3   .hack//Mutation Part 2      0.23      0.20       0.18         0.06\n",
       "4   .hack//Outbreak Part 3      0.14      0.17       0.11         0.04"
      ]
     },
     "execution_count": 29,
     "metadata": {},
     "output_type": "execute_result"
    }
   ],
   "source": [
    "df_title = df.groupby(['title'])[['na_sales', 'jp_sales', 'pal_sales', 'other_sales']].sum().reset_index()\n",
    "df_title.head()"
   ]
  },
  {
   "cell_type": "markdown",
   "id": "3c383214-7179-4a83-8f0d-33eba18cd6ec",
   "metadata": {},
   "source": [
    "To find which title is popular but flop in another, we calculate the sales difference by subtracting the region that has the most sales with the region that has the lowest sales"
   ]
  },
  {
   "cell_type": "code",
   "execution_count": 30,
   "id": "0dff3915-1d70-4dbd-add0-97b2763d4707",
   "metadata": {},
   "outputs": [
    {
     "data": {
      "text/html": [
       "<div>\n",
       "<style scoped>\n",
       "    .dataframe tbody tr th:only-of-type {\n",
       "        vertical-align: middle;\n",
       "    }\n",
       "\n",
       "    .dataframe tbody tr th {\n",
       "        vertical-align: top;\n",
       "    }\n",
       "\n",
       "    .dataframe thead th {\n",
       "        text-align: right;\n",
       "    }\n",
       "</style>\n",
       "<table border=\"1\" class=\"dataframe\">\n",
       "  <thead>\n",
       "    <tr style=\"text-align: right;\">\n",
       "      <th></th>\n",
       "      <th>title</th>\n",
       "      <th>na_sales</th>\n",
       "      <th>jp_sales</th>\n",
       "      <th>pal_sales</th>\n",
       "      <th>other_sales</th>\n",
       "      <th>sales_diff</th>\n",
       "    </tr>\n",
       "  </thead>\n",
       "  <tbody>\n",
       "    <tr>\n",
       "      <th>0</th>\n",
       "      <td>'98 Koshien</td>\n",
       "      <td>0.15</td>\n",
       "      <td>0.12</td>\n",
       "      <td>0.10</td>\n",
       "      <td>0.03</td>\n",
       "      <td>0.12</td>\n",
       "    </tr>\n",
       "    <tr>\n",
       "      <th>1</th>\n",
       "      <td>.hack//G.U. Last Recode</td>\n",
       "      <td>0.10</td>\n",
       "      <td>0.08</td>\n",
       "      <td>0.04</td>\n",
       "      <td>0.03</td>\n",
       "      <td>0.07</td>\n",
       "    </tr>\n",
       "    <tr>\n",
       "      <th>2</th>\n",
       "      <td>.hack//Infection Part 1</td>\n",
       "      <td>0.49</td>\n",
       "      <td>0.26</td>\n",
       "      <td>0.38</td>\n",
       "      <td>0.13</td>\n",
       "      <td>0.36</td>\n",
       "    </tr>\n",
       "    <tr>\n",
       "      <th>3</th>\n",
       "      <td>.hack//Mutation Part 2</td>\n",
       "      <td>0.23</td>\n",
       "      <td>0.20</td>\n",
       "      <td>0.18</td>\n",
       "      <td>0.06</td>\n",
       "      <td>0.17</td>\n",
       "    </tr>\n",
       "    <tr>\n",
       "      <th>4</th>\n",
       "      <td>.hack//Outbreak Part 3</td>\n",
       "      <td>0.14</td>\n",
       "      <td>0.17</td>\n",
       "      <td>0.11</td>\n",
       "      <td>0.04</td>\n",
       "      <td>0.13</td>\n",
       "    </tr>\n",
       "  </tbody>\n",
       "</table>\n",
       "</div>"
      ],
      "text/plain": [
       "                     title  na_sales  jp_sales  pal_sales  other_sales  \\\n",
       "0              '98 Koshien      0.15      0.12       0.10         0.03   \n",
       "1  .hack//G.U. Last Recode      0.10      0.08       0.04         0.03   \n",
       "2  .hack//Infection Part 1      0.49      0.26       0.38         0.13   \n",
       "3   .hack//Mutation Part 2      0.23      0.20       0.18         0.06   \n",
       "4   .hack//Outbreak Part 3      0.14      0.17       0.11         0.04   \n",
       "\n",
       "   sales_diff  \n",
       "0        0.12  \n",
       "1        0.07  \n",
       "2        0.36  \n",
       "3        0.17  \n",
       "4        0.13  "
      ]
     },
     "execution_count": 30,
     "metadata": {},
     "output_type": "execute_result"
    }
   ],
   "source": [
    "df_title['sales_diff'] = (df_title[['na_sales', 'jp_sales', 'pal_sales', 'other_sales']].max(axis=1)\n",
    "                          - df_title[['na_sales', 'jp_sales', 'pal_sales', 'other_sales']].min(axis=1))\n",
    "df_title.head()"
   ]
  },
  {
   "cell_type": "markdown",
   "id": "84889c14-99b3-4102-8280-e578d898a11b",
   "metadata": {},
   "source": [
    "Then, we sort the values by the sales difference to find the largest one"
   ]
  },
  {
   "cell_type": "code",
   "execution_count": 31,
   "id": "f0edcb55-6b3c-46cb-98e2-19690e8daacb",
   "metadata": {
    "scrolled": true
   },
   "outputs": [
    {
     "data": {
      "text/html": [
       "<div>\n",
       "<style scoped>\n",
       "    .dataframe tbody tr th:only-of-type {\n",
       "        vertical-align: middle;\n",
       "    }\n",
       "\n",
       "    .dataframe tbody tr th {\n",
       "        vertical-align: top;\n",
       "    }\n",
       "\n",
       "    .dataframe thead th {\n",
       "        text-align: right;\n",
       "    }\n",
       "</style>\n",
       "<table border=\"1\" class=\"dataframe\">\n",
       "  <thead>\n",
       "    <tr style=\"text-align: right;\">\n",
       "      <th></th>\n",
       "      <th>title</th>\n",
       "      <th>na_sales</th>\n",
       "      <th>jp_sales</th>\n",
       "      <th>pal_sales</th>\n",
       "      <th>other_sales</th>\n",
       "      <th>sales_diff</th>\n",
       "    </tr>\n",
       "  </thead>\n",
       "  <tbody>\n",
       "    <tr>\n",
       "      <th>628</th>\n",
       "      <td>Grand Theft Auto V</td>\n",
       "      <td>26.19</td>\n",
       "      <td>1.66</td>\n",
       "      <td>28.14</td>\n",
       "      <td>8.32</td>\n",
       "      <td>26.48</td>\n",
       "    </tr>\n",
       "    <tr>\n",
       "      <th>185</th>\n",
       "      <td>Call of Duty: Black Ops</td>\n",
       "      <td>15.77</td>\n",
       "      <td>0.59</td>\n",
       "      <td>8.13</td>\n",
       "      <td>2.92</td>\n",
       "      <td>15.18</td>\n",
       "    </tr>\n",
       "    <tr>\n",
       "      <th>193</th>\n",
       "      <td>Call of Duty: Modern Warfare 3</td>\n",
       "      <td>14.61</td>\n",
       "      <td>0.62</td>\n",
       "      <td>10.07</td>\n",
       "      <td>2.87</td>\n",
       "      <td>13.99</td>\n",
       "    </tr>\n",
       "    <tr>\n",
       "      <th>192</th>\n",
       "      <td>Call of Duty: Modern Warfare 2</td>\n",
       "      <td>13.53</td>\n",
       "      <td>0.46</td>\n",
       "      <td>7.29</td>\n",
       "      <td>2.87</td>\n",
       "      <td>13.07</td>\n",
       "    </tr>\n",
       "    <tr>\n",
       "      <th>187</th>\n",
       "      <td>Call of Duty: Black Ops II</td>\n",
       "      <td>13.26</td>\n",
       "      <td>0.72</td>\n",
       "      <td>10.20</td>\n",
       "      <td>3.48</td>\n",
       "      <td>12.54</td>\n",
       "    </tr>\n",
       "  </tbody>\n",
       "</table>\n",
       "</div>"
      ],
      "text/plain": [
       "                              title  na_sales  jp_sales  pal_sales  \\\n",
       "628              Grand Theft Auto V     26.19      1.66      28.14   \n",
       "185         Call of Duty: Black Ops     15.77      0.59       8.13   \n",
       "193  Call of Duty: Modern Warfare 3     14.61      0.62      10.07   \n",
       "192  Call of Duty: Modern Warfare 2     13.53      0.46       7.29   \n",
       "187      Call of Duty: Black Ops II     13.26      0.72      10.20   \n",
       "\n",
       "     other_sales  sales_diff  \n",
       "628         8.32       26.48  \n",
       "185         2.92       15.18  \n",
       "193         2.87       13.99  \n",
       "192         2.87       13.07  \n",
       "187         3.48       12.54  "
      ]
     },
     "execution_count": 31,
     "metadata": {},
     "output_type": "execute_result"
    }
   ],
   "source": [
    "df_title.sort_values(by='sales_diff', ascending=False, inplace=True)\n",
    "df_title.head()"
   ]
  },
  {
   "cell_type": "markdown",
   "id": "b9e16f64-518f-4cd2-9d26-ff0023971196",
   "metadata": {},
   "source": [
    "> #### **Grand Theft Auto V** is also the title where it is popular in **PAL** and **NA** but flop in **JP**"
   ]
  },
  {
   "cell_type": "markdown",
   "id": "c3e759b4-dded-4264-9a75-44c3f4ad2f1f",
   "metadata": {},
   "source": [
    "To further visualize the difference, we plot a bar graph for sales in each region"
   ]
  },
  {
   "cell_type": "code",
   "execution_count": 32,
   "id": "99fbdc23-65dd-46e3-8cd8-349b152f46f5",
   "metadata": {},
   "outputs": [
    {
     "data": {
      "text/plain": [
       "Text(0.5, 1.02, 'Grand Theft Auto V Sales Difference')"
      ]
     },
     "execution_count": 32,
     "metadata": {},
     "output_type": "execute_result"
    },
    {
     "data": {
      "image/png": "[encoded data removed]",
      "text/plain": [
       "<Figure size 800x500 with 1 Axes>"
      ]
     },
     "metadata": {},
     "output_type": "display_data"
    }
   ],
   "source": [
    "df_flop = df_title.iloc[0]\n",
    "fig_flop, ax_flop = plt.subplots(figsize=(8,5))\n",
    "ax_flop.bar(['na_sales', 'jp_sales', 'pal_sales', 'other_sales'], df_flop[['na_sales', 'jp_sales', 'pal_sales', 'other_sales']])\n",
    "ax_flop.set_title('{title} Sales Difference'.format(title=df_flop['title']), fontsize=15, y=1.02, weight='bold')"
   ]
  },
  {
   "cell_type": "markdown",
   "id": "a7a1fe18-4c12-4294-a9ba-6181e6bd4f28",
   "metadata": {},
   "source": [
    "***"
   ]
  },
  {
   "cell_type": "markdown",
   "id": "92dfdf86-58ef-410c-b3a4-fffd197adef9",
   "metadata": {},
   "source": [
    "## Limitations"
   ]
  },
  {
   "cell_type": "markdown",
   "id": "b38db673-9ad0-4492-b28c-1c39d660c270",
   "metadata": {},
   "source": [
    "As mentioned before, the dataset provided has a great amount of data that are empty and null"
   ]
  },
  {
   "cell_type": "markdown",
   "id": "0ee90ddc-9857-43ba-9b25-e5a85e3b04db",
   "metadata": {},
   "source": [
    "This introduces bias in the data that might possibly skew the results"
   ]
  },
  {
   "cell_type": "markdown",
   "id": "71d8e1ff-151f-480a-a3a9-4aab46558772",
   "metadata": {},
   "source": [
    "***"
   ]
  },
  {
   "cell_type": "markdown",
   "id": "17893587-25ac-4341-95c5-2e87c61ecb80",
   "metadata": {},
   "source": [
    "## Summary"
   ]
  },
  {
   "cell_type": "markdown",
   "id": "153c2fda-3a13-4d8f-9831-a8ef39c8e2de",
   "metadata": {},
   "source": [
    "To summarize the analysis:"
   ]
  },
  {
   "cell_type": "markdown",
   "id": "9bae9411-7850-4cc7-b085-4ed55bb300e4",
   "metadata": {},
   "source": [
    "* Q1: Which title sold the most worldwide?"
   ]
  },
  {
   "cell_type": "markdown",
   "id": "1e28487b-89e9-4850-ba0e-796ec495f7a3",
   "metadata": {},
   "source": [
    "> * **Grand Theft Auto V** is the best selling title worldwide"
   ]
  },
  {
   "cell_type": "markdown",
   "id": "7f7ce4a4-54a6-4e62-8d71-724725f60389",
   "metadata": {},
   "source": [
    "* Q2: Which year had the highest sales? Has the industry grown over time"
   ]
  },
  {
   "cell_type": "markdown",
   "id": "87080bb0-37bf-4842-a565-c90202812aca",
   "metadata": {},
   "source": [
    "> * **2011** was the year where it has the most sales, with a side note that the data is **biased** causing it difficult to tell if the industry has grown over time"
   ]
  },
  {
   "cell_type": "markdown",
   "id": "f7355ebe-e3df-4e63-907a-0456f9c0e42d",
   "metadata": {},
   "source": [
    "* Q3: Do any consoles seem to specialize in a particular genre?"
   ]
  },
  {
   "cell_type": "markdown",
   "id": "35ddf2a6-dfa3-442e-b9cc-41ca92e51d6d",
   "metadata": {},
   "source": [
    "> * **SNES** console specialize in **Platform** games, while **GBC** console specialize in **Adventure** games"
   ]
  },
  {
   "cell_type": "markdown",
   "id": "ce6fef28-8009-435f-a9e8-ab0ac5eecb94",
   "metadata": {},
   "source": [
    "* Q4: What title are popular in one region but flop in another?"
   ]
  },
  {
   "cell_type": "markdown",
   "id": "2a6585c9-6850-43ae-91a3-190e86d93261",
   "metadata": {},
   "source": [
    "> * **Grand Theft Auto V** is popular in region like **PAL** and **NA** but it was a flop in **JP**"
   ]
  },
  {
   "cell_type": "markdown",
   "id": "b5a82a01-581d-4668-a957-4f1fac973229",
   "metadata": {},
   "source": [
    "***"
   ]
  }
 ],
 "metadata": {
  "kernelspec": {
   "display_name": "Python 3 (ipykernel)",
   "language": "python",
   "name": "python3"
  },
  "language_info": {
   "codemirror_mode": {
    "name": "ipython",
    "version": 3
   },
   "file_extension": ".py",
   "mimetype": "text/x-python",
   "name": "python",
   "nbconvert_exporter": "python",
   "pygments_lexer": "ipython3",
   "version": "3.12.3"
  }
 },
 "nbformat": 4,
 "nbformat_minor": 5
}
